{
  "nbformat": 4,
  "nbformat_minor": 0,
  "metadata": {
    "colab": {
      "name": "setting.ipynb",
      "provenance": [],
      "private_outputs": true,
      "authorship_tag": "ABX9TyMnBfCHTlP5bIOGSVGXAsSx",
      "include_colab_link": true
    },
    "kernelspec": {
      "name": "python3",
      "display_name": "Python 3"
    }
  },
  "cells": [
    {
      "cell_type": "markdown",
      "metadata": {
        "id": "view-in-github",
        "colab_type": "text"
      },
      "source": [
        "<a href=\"https://colab.research.google.com/github/dmswl0707/transfer-learning_pytorch/blob/main/setting.ipynb\" target=\"_parent\"><img src=\"https://colab.research.google.com/assets/colab-badge.svg\" alt=\"Open In Colab\"/></a>"
      ]
    },
    {
      "cell_type": "code",
      "metadata": {
        "id": "S462FkwKg9p4"
      },
      "source": [
        "#image_net사용\n",
        "#classifier만 변형\n",
        "\n",
        "from __future__ import print_fuction, division  \n",
        "#주석필요\n",
        "\n",
        "import torch\n",
        "import torch.nn as nn\n",
        "import torch.optim as optim\n",
        "from torch.optim import lr_scheduler #학습률수정?\n",
        "from torch.autograd import Variable #grad 주석 필요\n",
        "import numpy as np\n",
        "import torchvision\n",
        "from torchvision import datasets, models, transforms #데이터셋,모델,변형\n",
        "import matplotlib.pyplot as plt \n",
        "import time #주석필요\n",
        "import os #시스템 주석필요\n",
        "import copy\n",
        "\n",
        "plt.ion() #interactive model\n",
        "\n",
        "##데이터 불러오기-torchvision, torch.utils.data\n",
        "\n",
        "###학습을 위한 데이터 증가(augmentation)과 일반화하기\n",
        "data_transform = {\n",
        "    'train':transform.Compose([\n",
        "        transforms.RandomResizedCrop(224),\n",
        "        transforms.ResizeHorizontalFlip(), #주석\n",
        "        transforms.ToTensor(),\n",
        "        transforms.Normalize([0.485, 0.456, 0.406],[0.229, 0.224, 0.225])\n",
        "    ]),\n",
        "    'val':transforms.Compose([\n",
        "        transforms.Resize(256),\n",
        "        transforms.CenterCrop(),\n",
        "        transforms.ToTensor(),\n",
        "        transforms.Normalize([0.485, 0.456, 0.406],[0.229, 0.224, 0.225])\n",
        "    ])\n",
        "}\n",
        "\n",
        "data_dir='hymenotera_data'\n",
        "\n",
        "imaage_datasets={x:dataets.ImageFolder(os.path.join(data_dir, x),\n",
        "                                       data.transorms[x])\n",
        "                for x in ['train','val']}\n",
        "\n",
        "dataloaders={x:torch.utils.data.Dataloaders(image_dataset[x], batsch_size=4,\n",
        "                                            shuffle=True, num_workers=4)\n",
        "                for x in ['train', 'val']}\n",
        "\n",
        "dataset_sizes={x:len(image_datasets[x]) for x in ['train','val']}\n",
        "class_names=image_datasets['train'].classes\n",
        "\n",
        "use_gpu=torch.cuda.is_available()\n",
        "\n"
      ],
      "execution_count": null,
      "outputs": []
    },
    {
      "cell_type": "code",
      "metadata": {
        "id": "GllqLiHS3J0m"
      },
      "source": [
        "###이미지 예제 시각화\n",
        "\n",
        "def imshow(inp, title=None):\n",
        "    \"\"\"Imshow for Tensor\"\"\"\n",
        "    inp=inp.numpy().transpose((1,2,0))\n",
        "    mean=np.array([0.485, 0.456, 0.406])\n",
        "    std=np.array([0.229, 0.224, 0.225])\n",
        "    inp=std+inp+mean\n",
        "    inp=np.clip(inp, 0, 1) #clip 함수\n",
        "    plt.imshow(inp)\n",
        "    if title is not None:\n",
        "        plt.title(title)\n",
        "    plt.pause(0.001) #업데이트하기 위해 잠시 멈충\n",
        "\n",
        "inputs, classes=next(iter(dataloaders['train']))\n",
        "\n",
        "out=torchvision.utils.make_grid(inputs) #배치 가져오기\n",
        "\n",
        "inshow(out,title=[class_names[x] for x in classes]) #그리드 만들기"
      ],
      "execution_count": null,
      "outputs": []
    }
  ]
}