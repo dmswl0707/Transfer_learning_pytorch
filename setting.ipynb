{
  "nbformat": 4,
  "nbformat_minor": 0,
  "metadata": {
    "colab": {
      "name": "setting.ipynb",
      "provenance": [],
      "private_outputs": true,
      "authorship_tag": "ABX9TyPdTUo3x6E72Na8QraiDSlm",
      "include_colab_link": true
    },
    "kernelspec": {
      "name": "python3",
      "display_name": "Python 3"
    }
  },
  "cells": [
    {
      "cell_type": "markdown",
      "metadata": {
        "id": "view-in-github",
        "colab_type": "text"
      },
      "source": [
        "<a href=\"https://colab.research.google.com/github/dmswl0707/transfer-learning_pytorch/blob/main/setting.ipynb\" target=\"_parent\"><img src=\"https://colab.research.google.com/assets/colab-badge.svg\" alt=\"Open In Colab\"/></a>"
      ]
    },
    {
      "cell_type": "code",
      "metadata": {
        "id": "S462FkwKg9p4"
      },
      "source": [
        "#image_net사용\n",
        "#classifier만 변형\n",
        "\n",
        "from __future__ import print_fuction, division #주석필요\n",
        "\n",
        "import torch\n",
        "import torch.nn as nn\n",
        "import torch.optim as optim\n",
        "from torch.optim import lr_scheduler #학습률수정?\n",
        "from torch.autograd import Variable #grad 주석 필요\n",
        "import numpy as np\n",
        "import torchvision\n",
        "from torchvision import datasets, models, transforms #데이터셋,모델,변형\n",
        "import matplotlib.pyplot as plt \n",
        "import time #주석필요\n",
        "import os #시스템 주석필요\n",
        "import copy\n",
        "\n",
        "plt.ion() #interactive model\n",
        "\n",
        "\n",
        "##학습을 위한 데이터 증가(augmentation)과 일반화하기\n"
      ],
      "execution_count": null,
      "outputs": []
    }
  ]
}