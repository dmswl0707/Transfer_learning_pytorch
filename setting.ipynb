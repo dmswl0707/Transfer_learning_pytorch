{
  "nbformat": 4,
  "nbformat_minor": 0,
  "metadata": {
    "colab": {
      "name": "setting.ipynb",
      "provenance": [],
      "private_outputs": true,
      "authorship_tag": "ABX9TyOAxkm4MjXHuWeCnF7f/FR3",
      "include_colab_link": true
    },
    "kernelspec": {
      "name": "python3",
      "display_name": "Python 3"
    }
  },
  "cells": [
    {
      "cell_type": "markdown",
      "metadata": {
        "id": "view-in-github",
        "colab_type": "text"
      },
      "source": [
        "<a href=\"https://colab.research.google.com/github/dmswl0707/transfer-learning_pytorch/blob/main/setting.ipynb\" target=\"_parent\"><img src=\"https://colab.research.google.com/assets/colab-badge.svg\" alt=\"Open In Colab\"/></a>"
      ]
    },
    {
      "cell_type": "code",
      "metadata": {
        "id": "S462FkwKg9p4"
      },
      "source": [
        "#image_net사용\n",
        "#classifier만 변형\n",
        "\n",
        "from __future__ import print_fuction, division #주석필요\n",
        "\n",
        "import torch\n",
        "import torch.nn as nn\n",
        "import torch.optim as optim\n",
        "from torch.optim import lr_scheduler #학습률수정?\n",
        "from torch.autograd import Variable #grad 주석 필요\n",
        "import numpy as np\n",
        "import torchvision\n",
        "from torchvision import datasets, models, transforms #데이터셋,모델,변형\n",
        "import matplotlib.pyplot as plt \n",
        "import time #주석필요\n",
        "import os #시스템 주석필요\n",
        "import copy\n",
        "\n",
        "plt.ion() #interactive model\n",
        "\n",
        "##데이터 불러오기-\n",
        "##학습을 위한 데이터 증가(augmentation)과 일반화하기\n",
        "data_transform{\n",
        "    'train':transform.Compose([\n",
        "        transforms.RandomResizedCrop(224),\n",
        "        transforms.ResizeHorizontalFlip(), #주석\n",
        "        transforms.ToTensor(),\n",
        "        transforms.Normalize([0.485, 0.456, 0.406],[0.229, 0.224, 0.225])\n",
        "    ]),\n",
        "    'val':transforms.Compose([\n",
        "        transforms.Resize(256),\n",
        "        transforms.CenterCrop(),\n",
        "        transforms.ToTensor(),\n",
        "        transforms.Normalize([0.485, 0.456, 0.406],[0.229, 0.224, 0.225])\n",
        "    ])\n",
        "}\n",
        "\n",
        "data_dir='hymenotera_data'\n"
      ],
      "execution_count": null,
      "outputs": []
    }
  ]
}