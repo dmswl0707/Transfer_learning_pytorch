{
  "nbformat": 4,
  "nbformat_minor": 0,
  "metadata": {
    "colab": {
      "name": "training.ipynb",
      "provenance": [],
      "private_outputs": true,
      "authorship_tag": "ABX9TyOGHuFFbze7scH6l0L0ToNi",
      "include_colab_link": true
    },
    "kernelspec": {
      "name": "python3",
      "display_name": "Python 3"
    }
  },
  "cells": [
    {
      "cell_type": "markdown",
      "metadata": {
        "id": "view-in-github",
        "colab_type": "text"
      },
      "source": [
        "<a href=\"https://colab.research.google.com/github/dmswl0707/transfer-learning_pytorch/blob/main/training.ipynb\" target=\"_parent\"><img src=\"https://colab.research.google.com/assets/colab-badge.svg\" alt=\"Open In Colab\"/></a>"
      ]
    },
    {
      "cell_type": "code",
      "metadata": {
        "id": "qM6r22oXIInL"
      },
      "source": [
        "def train(model, criterion, optimizer, scheduler, num_epochs=25):\n",
        "    since = time.time()\n",
        "\n",
        "best_model_wts=copy.deepcopy(model.state_dic())\n",
        "best_acc=0.0\n",
        "\n",
        "for epoch in range(num_epochs):\n",
        "    print('Epoch {}/{}'.format(epoch, num_epochs - 1))\n",
        "    print('_'*10)\n",
        "\n",
        "    #each epoch \n",
        "    for phase in ['train','val']:\n",
        "        print('Epoch {}/{}'.format(epoch, num_epochs - 1))\n",
        "        print('-'*10)\n",
        "    \n",
        "    for phase in ['train','val']:\n",
        "        if phase == 'train':\n",
        "            schedular.step()\n",
        "            model.train(True)\n",
        "        else:\n",
        "            model.train(False)\n",
        "    \n",
        "    running_loss="
      ],
      "execution_count": null,
      "outputs": []
    }
  ]
}